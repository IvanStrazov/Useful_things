{
 "cells": [
  {
   "cell_type": "markdown",
   "metadata": {},
   "source": [
    "# Импорт библиотек"
   ]
  },
  {
   "cell_type": "code",
   "execution_count": 11,
   "metadata": {},
   "outputs": [
    {
     "data": {
      "text/plain": [
       "'0.9.0'"
      ]
     },
     "execution_count": 11,
     "metadata": {},
     "output_type": "execute_result"
    }
   ],
   "source": [
    "# На каждый день\n",
    "\n",
    "import pandas as pd\n",
    "import numpy as np\n",
    "import os\n",
    "os.chdir('C:/Users/istrazov/Documents')\n",
    "import matplotlib.pyplot as plt\n",
    "%matplotlib inline\n",
    "import seaborn as sns\n",
    "\n",
    "# Специфичные\n",
    "\n",
    "from sklearn import tree\n",
    "import torch\n",
    "import sympy as sp\n",
    "import pandas_profiling\n",
    "\n",
    "\n",
    "# Мб пригодится\n",
    "cwd = os.getcwd()\n",
    "sns.__version__\n",
    "\n",
    "# Графики в svg выглядят более четкими\n",
    "%config InlineBackend.figure_format = 'svg' \n",
    "\n",
    "# Увеличим дефолтный размер графиков\n",
    "from pylab import rcParams\n",
    "rcParams['figure.figsize'] = 8, 5\n",
    "\n",
    "# Отключим предупреждения Anaconda\n",
    "import warnings\n",
    "warnings.simplefilter('ignore')\n",
    "\n",
    "# Настройки вывода pandas\n",
    "pd.set_option('display.max_rows', 500)\n",
    "pd.set_option('display.max_columns', 500)\n",
    "pd.set_option('display.width', 1000)"
   ]
  },
  {
   "cell_type": "markdown",
   "metadata": {},
   "source": [
    "# Режимы работы с файлами"
   ]
  },
  {
   "cell_type": "markdown",
   "metadata": {},
   "source": [
    "- r (read) - открыть для чтения (по уммолчанию)\n",
    "- w (write) - открыть для записи, содержимое файла стирается\n",
    "- a (append) - открыть для записи, запись ведется в конец\n",
    "- b (binary) - открыть в бинарном виде\n",
    "- t (text) - открыть в текстовом режиме (по умолчанию)\n",
    "- r+ - открыть для чтения и записи\n",
    "- w+ - откртыь для чтения и записи, содержимое файла стирается"
   ]
  },
  {
   "cell_type": "markdown",
   "metadata": {},
   "source": [
    "# Загрузка данных"
   ]
  },
  {
   "cell_type": "markdown",
   "metadata": {},
   "source": [
    "### Функции"
   ]
  },
  {
   "cell_type": "code",
   "execution_count": null,
   "metadata": {},
   "outputs": [],
   "source": [
    "pd.read_csv() # Разделитель ','\n",
    "\n",
    "pd.read_table() # Разделитель '\\t'\n",
    "\n",
    "pd.read_fwf() # Фиксированная ширина столбцев\n",
    "\n",
    "pd.read_clipboard() # Данные из буфера обмена"
   ]
  },
  {
   "cell_type": "markdown",
   "metadata": {},
   "source": [
    "### Аргументы"
   ]
  },
  {
   "cell_type": "code",
   "execution_count": null,
   "metadata": {},
   "outputs": [],
   "source": [
    "# Разделитель по столбцам\n",
    "sep = {',', ';', '\\t', '\\n', '', '|', '\\s+'}\n",
    "\n",
    "# Разделитель дробных чисел\n",
    "decimal = {'.', ','}\n",
    "thousands = {'.', ','}\n",
    "\n",
    "# Кодировка\n",
    "encoding = {'utf-8', 'cp1251', 'cp855', 'cp866', 'koi8-r', 'iso8859_5', 'mac_cyrillic'}\n",
    "#https://docs.python.org/3/library/codecs.html#standard-encodings\n",
    "\n",
    "# Заголовки столбцев\n",
    "header = {True, False}\n",
    "\n",
    "# Названия столбцев\n",
    "names = ['col1', 'col2']\n",
    "\n",
    "# Столбец индексов\n",
    "index_col = {0, \"name\"}\n",
    "\n",
    "# Пропуск строк\n",
    "skiprows = []\n",
    "\n",
    "# Обозначение NA в файле\n",
    "na_values = ['NULL']\n",
    "\n",
    "# Обозначение комментария в файле\n",
    "comment = ['--', '#']\n",
    "\n",
    "# Ковертер столбцев по функции\n",
    "converters = {'foo': 'f'}\n",
    "\n",
    "# Количество читаемых строк в файле\n",
    "nrows = 20\n",
    "\n",
    "# Список используемых столбцев\n",
    "usecols = [0, 1, 5]"
   ]
  },
  {
   "cell_type": "markdown",
   "metadata": {},
   "source": [
    "# Реорганизация данных"
   ]
  },
  {
   "cell_type": "markdown",
   "metadata": {},
   "source": [
    "### Сортировка"
   ]
  },
  {
   "cell_type": "code",
   "execution_count": null,
   "metadata": {},
   "outputs": [],
   "source": [
    "df.sort_values()\n",
    "\n",
    "# Name or list of names to sort by\n",
    "by = ['col1', 'col2'] \n",
    "\n",
    "# Choice of sorting algorithm\n",
    "kind = {‘quicksort’, ‘mergesort’, ‘heapsort’} \n",
    "\n",
    "# Perform operation in-place\n",
    "inplace = {False, True} \n",
    "\n",
    "# Axis to be sorted\n",
    "axis = {0, 1} \n",
    "\n",
    "# Sort ascending vs. descending\n",
    "ascending = {True, False} \n",
    "\n",
    "# Puts NaNs at the beginning or at the end\n",
    "na_position = {'first', 'last'} "
   ]
  },
  {
   "cell_type": "markdown",
   "metadata": {},
   "source": [
    "# Преобразование данных"
   ]
  },
  {
   "cell_type": "markdown",
   "metadata": {},
   "source": [
    "### Поиск и удаление NaN"
   ]
  },
  {
   "cell_type": "code",
   "execution_count": null,
   "metadata": {},
   "outputs": [],
   "source": [
    "df.isnull()\n",
    "\n",
    "df.isnull().sum()\n",
    "\n",
    "df.isnull().sum().sum()\n",
    "\n",
    "df.notnull()"
   ]
  },
  {
   "cell_type": "code",
   "execution_count": null,
   "metadata": {},
   "outputs": [],
   "source": [
    "df.col1[df.col1.notnull()]\n",
    "\n",
    "df.dropna(how = 'all' # Удаляет только если все значения в строке/столбце NaN\n",
    "          how = 'any' # Удаляет если хотя бы одно значение в строке/столбце NaN\n",
    "          thresh = 5 # Удаляет если 5 или больше значений в строке/столбце NaN\n",
    "          axis = 1 # Удаляем столбцы\n",
    "          )"
   ]
  },
  {
   "cell_type": "markdown",
   "metadata": {},
   "source": [
    "### Удаление дубликатов"
   ]
  },
  {
   "cell_type": "code",
   "execution_count": null,
   "metadata": {},
   "outputs": [],
   "source": [
    "df.duplicated()\n",
    "\n",
    "df.drop_duplicates()"
   ]
  },
  {
   "cell_type": "code",
   "execution_count": null,
   "metadata": {},
   "outputs": [],
   "source": [
    "# Ключ дублирования\n",
    "['col1', 'col2']\n",
    "\n",
    "# Оставляемый дубликат\n",
    "keep = {'last'}\n",
    "\n",
    "# Замена датафрейма\n",
    "inplace = {True, False}"
   ]
  },
  {
   "cell_type": "markdown",
   "metadata": {},
   "source": [
    "### Разбиение на отрезки"
   ]
  },
  {
   "cell_type": "code",
   "execution_count": 4,
   "metadata": {},
   "outputs": [],
   "source": [
    "ages = [20, 22, 25, 27, 21, 23, 37, 31, 61, 45, 41, 32]\n",
    "bins = [18, 25, 35, 60, 100]"
   ]
  },
  {
   "cell_type": "code",
   "execution_count": 5,
   "metadata": {},
   "outputs": [],
   "source": [
    "ages_cut = pd.cut(ages, bins)"
   ]
  },
  {
   "cell_type": "code",
   "execution_count": 11,
   "metadata": {},
   "outputs": [
    {
     "data": {
      "text/plain": [
       "IntervalIndex([(18, 25], (25, 35], (35, 60], (60, 100]],\n",
       "              closed='right',\n",
       "              dtype='interval[int64]')"
      ]
     },
     "execution_count": 11,
     "metadata": {},
     "output_type": "execute_result"
    }
   ],
   "source": [
    "ages_cut.categories"
   ]
  },
  {
   "cell_type": "code",
   "execution_count": 12,
   "metadata": {},
   "outputs": [
    {
     "data": {
      "text/plain": [
       "array([Interval(18, 25, closed='right'), Interval(18, 25, closed='right'),\n",
       "       Interval(18, 25, closed='right'), Interval(25, 35, closed='right'),\n",
       "       Interval(18, 25, closed='right'), Interval(18, 25, closed='right'),\n",
       "       Interval(35, 60, closed='right'), Interval(25, 35, closed='right'),\n",
       "       Interval(60, 100, closed='right'),\n",
       "       Interval(35, 60, closed='right'), Interval(35, 60, closed='right'),\n",
       "       Interval(25, 35, closed='right')], dtype=object)"
      ]
     },
     "execution_count": 12,
     "metadata": {},
     "output_type": "execute_result"
    }
   ],
   "source": [
    "ages_cut.get_values()"
   ]
  },
  {
   "cell_type": "code",
   "execution_count": 13,
   "metadata": {},
   "outputs": [
    {
     "data": {
      "text/plain": [
       "array([0, 0, 0, 1, 0, 0, 2, 1, 3, 2, 2, 1], dtype=int8)"
      ]
     },
     "execution_count": 13,
     "metadata": {},
     "output_type": "execute_result"
    }
   ],
   "source": [
    "ages_cut.codes"
   ]
  },
  {
   "cell_type": "code",
   "execution_count": null,
   "metadata": {},
   "outputs": [],
   "source": []
  },
  {
   "cell_type": "markdown",
   "metadata": {},
   "source": [
    "# YuoTube"
   ]
  },
  {
   "cell_type": "code",
   "execution_count": 2,
   "metadata": {},
   "outputs": [],
   "source": [
    "from IPython.display import YouTubeVideo\n",
    "\n",
    "YouTubeVideo('xe_ATRmw0KM')"
   ]
  },
  {
   "cell_type": "markdown",
   "metadata": {},
   "source": [
    "# Profile (pandas report)"
   ]
  },
  {
   "cell_type": "code",
   "execution_count": 9,
   "metadata": {},
   "outputs": [],
   "source": [
    "pip install pandas_profiling\n",
    "import pandas as pd\n",
    "import pandas_profiling\n",
    "pd.read_csv('https://raw.githubusercontent.com/mwaskom/seaborn-data/master/planets.csv').profile_report()"
   ]
  },
  {
   "cell_type": "markdown",
   "metadata": {},
   "source": [
    "# Matplotlib"
   ]
  },
  {
   "cell_type": "markdown",
   "metadata": {},
   "source": [
    "### color"
   ]
  },
  {
   "cell_type": "raw",
   "metadata": {},
   "source": [
    "'k' - black\n",
    "'g' - green\n",
    "'b' - blue\n",
    "'r' - red"
   ]
  },
  {
   "cell_type": "markdown",
   "metadata": {},
   "source": [
    "### linestyle"
   ]
  },
  {
   "cell_type": "raw",
   "metadata": {},
   "source": [
    "'-' - dashes\n",
    "'s' - squares\n",
    "'^' - triangles"
   ]
  },
  {
   "cell_type": "markdown",
   "metadata": {},
   "source": [
    "### marker"
   ]
  },
  {
   "cell_type": "raw",
   "metadata": {},
   "source": [
    "'o'\n",
    "'+'\n",
    "','\n",
    "'.'\n",
    "'1'"
   ]
  },
  {
   "cell_type": "markdown",
   "metadata": {},
   "source": [
    "### drawstyle"
   ]
  },
  {
   "cell_type": "code",
   "execution_count": null,
   "metadata": {},
   "outputs": [],
   "source": [
    "\n",
    "\n",
    "steps-post"
   ]
  },
  {
   "cell_type": "code",
   "execution_count": null,
   "metadata": {},
   "outputs": [],
   "source": []
  },
  {
   "cell_type": "code",
   "execution_count": null,
   "metadata": {},
   "outputs": [],
   "source": []
  },
  {
   "cell_type": "code",
   "execution_count": 1,
   "metadata": {},
   "outputs": [],
   "source": [
    "from statsmodels.iolib.table import SimpleTable"
   ]
  },
  {
   "cell_type": "code",
   "execution_count": 12,
   "metadata": {},
   "outputs": [
    {
     "name": "stdout",
     "output_type": "stream",
     "text": [
      "=========================\n",
      " JB p-value skew kurtosis\n",
      "-------------------------\n",
      "1.5     2.5  3.5      4.5\n",
      "-------------------------\n"
     ]
    }
   ],
   "source": [
    "row =  ['JB', 'p-value', 'skew', 'kurtosis']\n",
    "a = [['1.5', '2.5', '3.5', '4.5']]\n",
    "print(SimpleTable(a, row))"
   ]
  },
  {
   "cell_type": "code",
   "execution_count": null,
   "metadata": {},
   "outputs": [],
   "source": []
  },
  {
   "cell_type": "code",
   "execution_count": null,
   "metadata": {},
   "outputs": [],
   "source": []
  },
  {
   "cell_type": "code",
   "execution_count": 3,
   "metadata": {},
   "outputs": [
    {
     "data": {
      "text/plain": [
       "79.14438502673796"
      ]
     },
     "execution_count": 3,
     "metadata": {},
     "output_type": "execute_result"
    }
   ],
   "source": [
    "100*148/187"
   ]
  },
  {
   "cell_type": "code",
   "execution_count": null,
   "metadata": {},
   "outputs": [],
   "source": []
  },
  {
   "cell_type": "code",
   "execution_count": null,
   "metadata": {},
   "outputs": [],
   "source": [
    "reset_index()\n",
    "wide_to_long()\n",
    "to_records()"
   ]
  },
  {
   "cell_type": "code",
   "execution_count": null,
   "metadata": {},
   "outputs": [],
   "source": []
  },
  {
   "cell_type": "code",
   "execution_count": null,
   "metadata": {},
   "outputs": [],
   "source": []
  },
  {
   "cell_type": "code",
   "execution_count": null,
   "metadata": {},
   "outputs": [],
   "source": []
  },
  {
   "cell_type": "code",
   "execution_count": null,
   "metadata": {},
   "outputs": [],
   "source": []
  },
  {
   "cell_type": "markdown",
   "metadata": {},
   "source": [
    "# Datetime"
   ]
  },
  {
   "cell_type": "code",
   "execution_count": 1,
   "metadata": {},
   "outputs": [],
   "source": [
    "from datetime import datetime"
   ]
  },
  {
   "cell_type": "code",
   "execution_count": 46,
   "metadata": {},
   "outputs": [
    {
     "data": {
      "text/plain": [
       "datetime.datetime(2019, 11, 22, 16, 25, 39, 335714)"
      ]
     },
     "execution_count": 46,
     "metadata": {},
     "output_type": "execute_result"
    }
   ],
   "source": [
    "# Текущее время\n",
    "\n",
    "datetime.now()"
   ]
  },
  {
   "cell_type": "code",
   "execution_count": 47,
   "metadata": {},
   "outputs": [
    {
     "data": {
      "text/plain": [
       "datetime.timedelta(days=12, seconds=59139, microseconds=990836)"
      ]
     },
     "execution_count": 47,
     "metadata": {},
     "output_type": "execute_result"
    }
   ],
   "source": [
    "# Объект timedelta\n",
    "\n",
    "datetime.now() - datetime(2019, 11, 10)"
   ]
  },
  {
   "cell_type": "code",
   "execution_count": 45,
   "metadata": {},
   "outputs": [
    {
     "name": "stdout",
     "output_type": "stream",
     "text": [
      "2019-11-22 16:25:00.344077\n",
      "2019-11-22 16:25:00\n"
     ]
    }
   ],
   "source": [
    "# Перевод в строковый формат\n",
    "\n",
    "print(str(datetime.now()))\n",
    "print(datetime.now().strftime('%Y-%m-%d %H:%M:%S'))"
   ]
  },
  {
   "cell_type": "code",
   "execution_count": null,
   "metadata": {},
   "outputs": [],
   "source": [
    "# Спецификаторы datetime\n",
    "\n",
    "%Y - год(4)\n",
    "%y - год(2)\n",
    "%m - месяц\n",
    "%d - день\n",
    "%H - час(24)\n",
    "%h - час(12)\n",
    "%M - минута\n",
    "%S - секунда\n",
    "%w - номер дня недели\n",
    "%U - номер недели (с воскресенья)\n",
    "%W - номер недели (с понедельника)\n",
    "%z - часовой пояс\n",
    "%F - %Y-%m-%d\n",
    "%D - %m/%d/%y\n",
    "\n",
    "# Спецификаторы, зависящие от локали\n",
    "\n",
    "%a - сокращенное название дня недели\n",
    "%A - полное название дня недели\n",
    "%b - сокращенное название месяца\n",
    "%B - полное название месяца\n",
    "%c - полная дата и время\n",
    "%p - AM/PM\n",
    "%x - дата в формате локали\n",
    "%X - время в формате локали"
   ]
  }
 ],
 "metadata": {
  "kernelspec": {
   "display_name": "Python 3",
   "language": "python",
   "name": "python3"
  },
  "language_info": {
   "codemirror_mode": {
    "name": "ipython",
    "version": 3
   },
   "file_extension": ".py",
   "mimetype": "text/x-python",
   "name": "python",
   "nbconvert_exporter": "python",
   "pygments_lexer": "ipython3",
   "version": "3.7.3"
  }
 },
 "nbformat": 4,
 "nbformat_minor": 4
}
