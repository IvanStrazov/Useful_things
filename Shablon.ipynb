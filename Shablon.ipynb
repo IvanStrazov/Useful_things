{
 "cells": [
  {
   "cell_type": "markdown",
   "metadata": {},
   "source": [
    "# Libraries"
   ]
  },
  {
   "cell_type": "code",
   "execution_count": 11,
   "metadata": {},
   "outputs": [
    {
     "data": {
      "text/plain": [
       "'0.9.0'"
      ]
     },
     "execution_count": 11,
     "metadata": {},
     "output_type": "execute_result"
    }
   ],
   "source": [
    "# Every day\n",
    "import pandas as pd\n",
    "import numpy as np\n",
    "import os\n",
    "os.chdir('C:/Users/istrazov/Documents')\n",
    "import matplotlib.pyplot as plt\n",
    "plt.style.use('ggplot')\n",
    "%matplotlib inline\n",
    "import seaborn as sns\n",
    "\n",
    "# String\n",
    "import re # RegEx\n",
    "\n",
    "# Time series\n",
    "import time\n",
    "import datetime\n",
    "\n",
    "# File format\n",
    "import csv\n",
    "import json\n",
    "\n",
    "# Model\n",
    "import statsmodels\n",
    "import sklearn\n",
    "\n",
    "# Neural Network\n",
    "import torch\n",
    "\n",
    "# Computer vision\n",
    "import skimage\n",
    "import pylab\n",
    "\n",
    "# Specific\n",
    "import sympy as sp\n",
    "import pandas_profiling # Cool pandas data report\n",
    "import pymssql # MS SQL\n",
    "import pipenv # Virtual enviroment\n",
    "from tqdm import tqdm # Progress bar\n",
    "import import_ipynb # Import .ipynb"
   ]
  },
  {
   "cell_type": "markdown",
   "metadata": {},
   "source": [
    " "
   ]
  },
  {
   "cell_type": "markdown",
   "metadata": {},
   "source": [
    " "
   ]
  },
  {
   "cell_type": "markdown",
   "metadata": {},
   "source": [
    " "
   ]
  },
  {
   "cell_type": "markdown",
   "metadata": {},
   "source": [
    " "
   ]
  },
  {
   "cell_type": "markdown",
   "metadata": {},
   "source": [
    " "
   ]
  },
  {
   "cell_type": "markdown",
   "metadata": {},
   "source": [
    "# Session settings"
   ]
  },
  {
   "cell_type": "code",
   "execution_count": null,
   "metadata": {},
   "outputs": [],
   "source": [
    "# Default size of graph\n",
    "from matplotlib import rcParams\n",
    "rcParams['figure.figsize'] = 8, 5\n",
    "\n",
    "# Stopping Warnings\n",
    "import warnings\n",
    "warnings.simplefilter('ignore')\n",
    "\n",
    "# Pandas settings\n",
    "display_settings = {\n",
    "    'max_columns': 500,\n",
    "    'expand_frame_repr': True,\n",
    "    'max_rows': 500,\n",
    "    'width': 1000,\n",
    "    'precision': 2,\n",
    "    'show_dimensions': True\n",
    "}\n",
    "\n",
    "for op, value in display_settings.items():\n",
    "    pd.set_option(\"display.{}\".format(op), value)"
   ]
  },
  {
   "cell_type": "markdown",
   "metadata": {},
   "source": [
    " "
   ]
  },
  {
   "cell_type": "markdown",
   "metadata": {},
   "source": [
    " "
   ]
  },
  {
   "cell_type": "markdown",
   "metadata": {},
   "source": [
    " "
   ]
  },
  {
   "cell_type": "markdown",
   "metadata": {},
   "source": [
    " "
   ]
  },
  {
   "cell_type": "markdown",
   "metadata": {},
   "source": [
    " "
   ]
  },
  {
   "cell_type": "markdown",
   "metadata": {},
   "source": [
    "# PIP"
   ]
  },
  {
   "cell_type": "markdown",
   "metadata": {},
   "source": [
    "- pip help - помощь по доступным командам.\n",
    "\n",
    "- pip install package_name - установка пакета(ов).\n",
    "\n",
    "- pip uninstall package_name - удаление пакета(ов).\n",
    "\n",
    "- pip list - список установленных пакетов.\n",
    "\n",
    "- pip show package_name - показывает информацию об установленном пакете.\n",
    "\n",
    "- pip search - поиск пакетов по имени.\n",
    "\n",
    "- pip --proxy user:passwd@proxy.server:port - использование с прокси.\n",
    "\n",
    "- pip install -U - обновление пакета(ов).\n",
    "\n",
    "- pip install --force-reinstall - при обновлении, переустановить пакет, даже если он последней версии."
   ]
  },
  {
   "cell_type": "markdown",
   "metadata": {},
   "source": [
    " "
   ]
  },
  {
   "cell_type": "markdown",
   "metadata": {},
   "source": [
    " "
   ]
  },
  {
   "cell_type": "markdown",
   "metadata": {},
   "source": [
    " "
   ]
  },
  {
   "cell_type": "markdown",
   "metadata": {},
   "source": [
    " "
   ]
  },
  {
   "cell_type": "markdown",
   "metadata": {},
   "source": [
    " "
   ]
  },
  {
   "cell_type": "markdown",
   "metadata": {},
   "source": [
    "# Downloading data"
   ]
  },
  {
   "cell_type": "markdown",
   "metadata": {},
   "source": [
    "### Classic"
   ]
  },
  {
   "cell_type": "code",
   "execution_count": null,
   "metadata": {},
   "outputs": [],
   "source": [
    "with open('file_name', 'r') as file:\n",
    "    f.read()\n",
    "    f.write()"
   ]
  },
  {
   "cell_type": "markdown",
   "metadata": {},
   "source": [
    "- r (read) - открыть для чтения (по уммолчанию)\n",
    "- w (write) - открыть для записи, содержимое файла стирается\n",
    "- a (append) - открыть для записи, запись ведется в конец\n",
    "- b (binary) - открыть в бинарном виде\n",
    "- t (text) - открыть в текстовом режиме (по умолчанию)\n",
    "- r+ - открыть для чтения и записи\n",
    "- w+ - откртыь для чтения и записи, содержимое файла стирается"
   ]
  },
  {
   "cell_type": "markdown",
   "metadata": {},
   "source": [
    "### Pandas functions"
   ]
  },
  {
   "cell_type": "code",
   "execution_count": null,
   "metadata": {},
   "outputs": [],
   "source": [
    "pd.read_csv() # Разделитель ','\n",
    "\n",
    "pd.read_table() # Разделитель '\\t'\n",
    "\n",
    "pd.read_fwf() # Фиксированная ширина столбцев\n",
    "\n",
    "pd.read_clipboard() # Данные из буфера обмена\n",
    "\n",
    "pd.read_excel() # Excel file\n",
    "\n",
    "\n",
    "\n",
    "# Разделитель по столбцам\n",
    "sep = {',', ';', '\\t', '\\n', '', '|', '\\s+'}\n",
    "\n",
    "# Разделитель дробных чисел\n",
    "decimal = {'.', ','}\n",
    "thousands = {'.', ','}\n",
    "\n",
    "# Кодировка\n",
    "encoding = {'utf-8', 'cp1251', 'cp855', 'cp866', 'koi8-r', 'iso8859_5', 'mac_cyrillic'}\n",
    "#https://docs.python.org/3/library/codecs.html#standard-encodings\n",
    "\n",
    "# Заголовки столбцев\n",
    "header = {True, False}\n",
    "\n",
    "# Названия столбцев\n",
    "names = ['col1', 'col2']\n",
    "\n",
    "# Столбец индексов\n",
    "index_col = {0, \"name\"}\n",
    "\n",
    "# Пропуск строк\n",
    "skiprows = []\n",
    "\n",
    "# Обозначение NA в файле\n",
    "na_values = ['NULL']\n",
    "\n",
    "# Обозначение комментария в файле\n",
    "comment = ['--', '#']\n",
    "\n",
    "# Ковертер столбцев по функции\n",
    "converters = {'foo': 'f'}\n",
    "\n",
    "# Количество читаемых строк в файле\n",
    "nrows = 20\n",
    "\n",
    "# Список используемых столбцев\n",
    "usecols = [0, 1, 5]"
   ]
  },
  {
   "cell_type": "markdown",
   "metadata": {},
   "source": [
    "### Custom functions"
   ]
  },
  {
   "cell_type": "code",
   "execution_count": null,
   "metadata": {},
   "outputs": [],
   "source": [
    "import pandas as pd, numpy as np\n",
    "\n",
    "def reduce_mem_usage(df):\n",
    "    \"\"\"\n",
    "    iterate through all the columns of a dataframe and modify the data type\n",
    "    to reduce memory usage.        \n",
    "    \"\"\"\n",
    "    start_mem = df.memory_usage().sum() / 1024**2\n",
    "    print('Memory usage of dataframe is {:.2f} MB'.format(start_mem))\n",
    "    \n",
    "    for col in df.columns:\n",
    "        col_type = df[col].dtype\n",
    "        \n",
    "        if col_type != object:\n",
    "            c_min = df[col].min()\n",
    "            c_max = df[col].max()\n",
    "            if str(col_type) == 'bool':\n",
    "                continue\n",
    "            elif str(col_type)[:3] == 'int':\n",
    "                if c_min > np.iinfo(np.int8).min and c_max < np.iinfo(np.int8).max:\n",
    "                    df[col] = df[col].astype(np.int8)\n",
    "                elif c_min > np.iinfo(np.int16).min and c_max < np.iinfo(np.int16).max:\n",
    "                    df[col] = df[col].astype(np.int16)\n",
    "                elif c_min > np.iinfo(np.int32).min and c_max < np.iinfo(np.int32).max:\n",
    "                    df[col] = df[col].astype(np.int32)\n",
    "                elif c_min > np.iinfo(np.int64).min and c_max < np.iinfo(np.int64).max:\n",
    "                    df[col] = df[col].astype(np.int64)  \n",
    "            else:\n",
    "                if c_min > np.finfo(np.float16).min and c_max < np.finfo(np.float16).max:\n",
    "                    df[col] = df[col].astype(np.float16)\n",
    "                elif c_min > np.finfo(np.float32).min and c_max < np.finfo(np.float32).max:\n",
    "                    df[col] = df[col].astype(np.float32)\n",
    "                else:\n",
    "                    df[col] = df[col].astype(np.float64)\n",
    "        else:\n",
    "            df[col] = df[col].astype('category')\n",
    "\n",
    "    end_mem = df.memory_usage().sum() / 1024**2\n",
    "    print('Memory usage after optimization is: {:.2f} MB'.format(end_mem))\n",
    "    print('Decreased by {:.1f}%'.format(100 * (start_mem - end_mem) / start_mem))\n",
    "    \n",
    "    return df\n",
    "\n",
    "\n",
    "def import_data(file, sep=',', decimal=',', header='infer', index_col=None, report=False):\n",
    "    \"\"\"\n",
    "    create a dataframe & report and optimize its memory usage\n",
    "    \"\"\"\n",
    "    df = pd.read_csv(file, parse_dates=True, keep_date_col=True, sep=sep, decimal=decimal, header=header, index_col=index_col)\n",
    "    df = reduce_mem_usage(df)\n",
    "    \n",
    "    if report == True:\n",
    "        display(df.head())\n",
    "        print('Shape', end='\\n\\n')\n",
    "        display(df.shape)\n",
    "        print('\\nTypes', end='\\n\\n')\n",
    "        display(df.dtypes)\n",
    "\n",
    "        if df.isnull().sum().sum() > 0:\n",
    "            print('\\nNaN', end='\\n\\n')\n",
    "            display(df.isnull().sum())\n",
    "        else:\n",
    "            print('\\nNaN\\n-')\n",
    "    \n",
    "    return df"
   ]
  },
  {
   "cell_type": "markdown",
   "metadata": {},
   "source": [
    "# Реорганизация данных"
   ]
  },
  {
   "cell_type": "markdown",
   "metadata": {},
   "source": [
    "### Sorting"
   ]
  },
  {
   "cell_type": "code",
   "execution_count": null,
   "metadata": {},
   "outputs": [],
   "source": [
    "df.sort_values()\n",
    "\n",
    "# Name or list of names to sort by\n",
    "by = ['col1', 'col2'] \n",
    "\n",
    "# Choice of sorting algorithm\n",
    "kind = {'quicksort', 'mergesort', 'heapsort'} \n",
    "\n",
    "# Perform operation in-place\n",
    "inplace = {False, True} \n",
    "\n",
    "# Axis to be sorted\n",
    "axis = {0, 1} \n",
    "\n",
    "# Sort ascending vs. descending\n",
    "ascending = {True, False} \n",
    "\n",
    "# Puts NaNs at the beginning or at the end\n",
    "na_position = {'first', 'last'} "
   ]
  },
  {
   "cell_type": "markdown",
   "metadata": {},
   "source": [
    "# Transforming data"
   ]
  },
  {
   "cell_type": "markdown",
   "metadata": {},
   "source": [
    "### NaN"
   ]
  },
  {
   "cell_type": "code",
   "execution_count": null,
   "metadata": {},
   "outputs": [],
   "source": [
    "df.isnull() # == NaN\n",
    "\n",
    "df.isnull().sum(axis=0) # Columns or string amount of NaN\n",
    "\n",
    "df.isnull().sum().sum() # All amount of NaN\n",
    "\n",
    "df.notnull()"
   ]
  },
  {
   "cell_type": "code",
   "execution_count": null,
   "metadata": {},
   "outputs": [],
   "source": [
    "df.col1[df.col1.notnull()]\n",
    "\n",
    "df.dropna(how = 'all' # Удаляет только если все значения в строке/столбце NaN\n",
    "          how = 'any' # Удаляет если хотя бы одно значение в строке/столбце NaN\n",
    "          thresh = 5 # Удаляет если 5 или больше значений в строке/столбце NaN\n",
    "          axis = 1 # Удаляем столбцы\n",
    "          )"
   ]
  },
  {
   "cell_type": "markdown",
   "metadata": {},
   "source": [
    "### Indices"
   ]
  },
  {
   "cell_type": "code",
   "execution_count": null,
   "metadata": {},
   "outputs": [],
   "source": [
    "df.set_index('col_name') # Column to index\n",
    "df.reset_index() # Index to column\n",
    "\n",
    "df.to_records() # DataFrame to array \n",
    "\n",
    "df.wide_to_long()"
   ]
  },
  {
   "cell_type": "markdown",
   "metadata": {},
   "source": [
    "### Duplicates"
   ]
  },
  {
   "cell_type": "code",
   "execution_count": null,
   "metadata": {},
   "outputs": [],
   "source": [
    "df.duplicated()\n",
    "\n",
    "df.drop_duplicates()\n",
    "\n",
    "# Ключ дублирования\n",
    "['col1', 'col2']\n",
    "\n",
    "# Оставляемый дубликат\n",
    "keep = {'last'}\n",
    "\n",
    "# Замена датафрейма\n",
    "inplace = {True, False}"
   ]
  },
  {
   "cell_type": "markdown",
   "metadata": {},
   "source": [
    "### Digits to intervals"
   ]
  },
  {
   "cell_type": "code",
   "execution_count": 4,
   "metadata": {},
   "outputs": [],
   "source": [
    "ages = [20, 22, 25, 27, 21, 23, 37, 31, 61, 45, 41, 32]\n",
    "bins = [18, 25, 35, 60, 100]"
   ]
  },
  {
   "cell_type": "markdown",
   "metadata": {},
   "source": [
    "#### pandas"
   ]
  },
  {
   "cell_type": "code",
   "execution_count": 5,
   "metadata": {},
   "outputs": [],
   "source": [
    "pd.cut(ages, bins)"
   ]
  },
  {
   "cell_type": "markdown",
   "metadata": {},
   "source": [
    "#### numpy"
   ]
  },
  {
   "cell_type": "code",
   "execution_count": null,
   "metadata": {},
   "outputs": [],
   "source": [
    "np.digitize(x, bins, right=False)"
   ]
  },
  {
   "cell_type": "markdown",
   "metadata": {},
   "source": [
    " "
   ]
  },
  {
   "cell_type": "markdown",
   "metadata": {},
   "source": [
    " "
   ]
  },
  {
   "cell_type": "markdown",
   "metadata": {},
   "source": [
    " "
   ]
  },
  {
   "cell_type": "markdown",
   "metadata": {},
   "source": [
    " "
   ]
  },
  {
   "cell_type": "markdown",
   "metadata": {},
   "source": [
    " "
   ]
  },
  {
   "cell_type": "markdown",
   "metadata": {},
   "source": [
    "# NumPy"
   ]
  },
  {
   "cell_type": "code",
   "execution_count": null,
   "metadata": {},
   "outputs": [],
   "source": [
    "import numpy as np"
   ]
  },
  {
   "cell_type": "markdown",
   "metadata": {},
   "source": [
    "### Creation arrays"
   ]
  },
  {
   "cell_type": "code",
   "execution_count": null,
   "metadata": {},
   "outputs": [],
   "source": [
    "np.ones() # array of 0\n",
    "np.zeros() # array of 1\n",
    "np.eye() # unit matrix"
   ]
  },
  {
   "cell_type": "code",
   "execution_count": null,
   "metadata": {},
   "outputs": [],
   "source": [
    "np.arange()\n",
    "np.linspace(start, stop, num=50, endpoint=True, retstep=False, dtype=None, axis=0) # function returns evenly spaced numbers over a specified interval\n",
    "# function has two arguments: array x, array of bins, returning the indices of the bins to which each value in x\n",
    "np.repeat(a, repeats, axis=None) # function repeats the elements of an array"
   ]
  },
  {
   "cell_type": "markdown",
   "metadata": {},
   "source": [
    "### np.random"
   ]
  },
  {
   "cell_type": "code",
   "execution_count": null,
   "metadata": {},
   "outputs": [],
   "source": [
    "np.random.randint(low, high=None, size=None, dtype='l')\n",
    "np.random.choice(a, size=None, replace=True, p=None)\n",
    "np.random.binomial(n, p, size=None) # binomial distribution"
   ]
  },
  {
   "cell_type": "markdown",
   "metadata": {},
   "source": [
    "### Polynomial"
   ]
  },
  {
   "cell_type": "code",
   "execution_count": null,
   "metadata": {},
   "outputs": [],
   "source": [
    "np.polyfit(x, y, deg, rcond=None, full=False, w=None, cov=False) # function outputs a polynomial of degree deg that fits the points (x,y), minimizing the square error"
   ]
  },
  {
   "cell_type": "code",
   "execution_count": null,
   "metadata": {},
   "outputs": [],
   "source": [
    "np.polyval(p, x) # function evaluates a polynomial at specific values"
   ]
  },
  {
   "cell_type": "markdown",
   "metadata": {},
   "source": [
    "### Arg-functions"
   ]
  },
  {
   "cell_type": "code",
   "execution_count": null,
   "metadata": {},
   "outputs": [],
   "source": [
    "np.argmax(a, axis=None, out=None) # return the index of max element\n",
    "np.argmin(a, axis=None, out=None) # return the index of min element\n",
    "np.argsort() # return the indices that would sort an array"
   ]
  },
  {
   "cell_type": "markdown",
   "metadata": {},
   "source": [
    "### Histogram"
   ]
  },
  {
   "cell_type": "code",
   "execution_count": null,
   "metadata": {},
   "outputs": [],
   "source": [
    "np.histogram(a, bins=10, range=None, normed=None, weights=None, density=None) # computes the histogram of a set of data; returns frequency count and bin edges"
   ]
  },
  {
   "cell_type": "markdown",
   "metadata": {},
   "source": [
    " "
   ]
  },
  {
   "cell_type": "markdown",
   "metadata": {},
   "source": [
    " "
   ]
  },
  {
   "cell_type": "markdown",
   "metadata": {},
   "source": [
    " "
   ]
  },
  {
   "cell_type": "markdown",
   "metadata": {},
   "source": [
    " "
   ]
  },
  {
   "cell_type": "markdown",
   "metadata": {},
   "source": [
    " "
   ]
  },
  {
   "cell_type": "markdown",
   "metadata": {},
   "source": [
    "# YuoTube"
   ]
  },
  {
   "cell_type": "code",
   "execution_count": null,
   "metadata": {},
   "outputs": [],
   "source": [
    "from IPython.display import YouTubeVideo\n",
    "\n",
    "YouTubeVideo('xe_ATRmw0KM')"
   ]
  },
  {
   "cell_type": "markdown",
   "metadata": {},
   "source": [
    " "
   ]
  },
  {
   "cell_type": "markdown",
   "metadata": {},
   "source": [
    " "
   ]
  },
  {
   "cell_type": "markdown",
   "metadata": {},
   "source": [
    " "
   ]
  },
  {
   "cell_type": "markdown",
   "metadata": {},
   "source": [
    " "
   ]
  },
  {
   "cell_type": "markdown",
   "metadata": {},
   "source": [
    " "
   ]
  },
  {
   "cell_type": "markdown",
   "metadata": {},
   "source": [
    "# Profile (pandas report)"
   ]
  },
  {
   "cell_type": "code",
   "execution_count": 9,
   "metadata": {},
   "outputs": [],
   "source": [
    "# !pip install pandas_profiling\n",
    "\n",
    "import pandas as pd\n",
    "import pandas_profiling\n",
    "\n",
    "pd.read_csv('https://raw.githubusercontent.com/mwaskom/seaborn-data/master/planets.csv').profile_report()"
   ]
  },
  {
   "cell_type": "markdown",
   "metadata": {},
   "source": [
    " "
   ]
  },
  {
   "cell_type": "markdown",
   "metadata": {},
   "source": [
    " "
   ]
  },
  {
   "cell_type": "markdown",
   "metadata": {},
   "source": [
    " "
   ]
  },
  {
   "cell_type": "markdown",
   "metadata": {},
   "source": [
    " "
   ]
  },
  {
   "cell_type": "markdown",
   "metadata": {},
   "source": [
    " "
   ]
  },
  {
   "cell_type": "markdown",
   "metadata": {},
   "source": [
    "# Matplotlib"
   ]
  },
  {
   "cell_type": "markdown",
   "metadata": {},
   "source": [
    "### color"
   ]
  },
  {
   "cell_type": "code",
   "execution_count": null,
   "metadata": {},
   "outputs": [],
   "source": [
    "'k' - black\n",
    "'g' - green\n",
    "'b' - blue\n",
    "'r' - red"
   ]
  },
  {
   "cell_type": "markdown",
   "metadata": {},
   "source": [
    "### linestyle"
   ]
  },
  {
   "cell_type": "code",
   "execution_count": null,
   "metadata": {},
   "outputs": [],
   "source": [
    "'-' - dashes\n",
    "'s' - squares\n",
    "'^' - triangles"
   ]
  },
  {
   "cell_type": "markdown",
   "metadata": {},
   "source": [
    "### marker"
   ]
  },
  {
   "cell_type": "code",
   "execution_count": null,
   "metadata": {},
   "outputs": [],
   "source": [
    "'o'\n",
    "'+'\n",
    "','\n",
    "'.'\n",
    "'1'"
   ]
  },
  {
   "cell_type": "markdown",
   "metadata": {},
   "source": [
    "### drawstyle"
   ]
  },
  {
   "cell_type": "code",
   "execution_count": null,
   "metadata": {},
   "outputs": [],
   "source": [
    "steps-post"
   ]
  },
  {
   "cell_type": "markdown",
   "metadata": {},
   "source": [
    " "
   ]
  },
  {
   "cell_type": "markdown",
   "metadata": {},
   "source": [
    " "
   ]
  },
  {
   "cell_type": "markdown",
   "metadata": {},
   "source": [
    " "
   ]
  },
  {
   "cell_type": "markdown",
   "metadata": {},
   "source": [
    " "
   ]
  },
  {
   "cell_type": "markdown",
   "metadata": {},
   "source": [
    " "
   ]
  },
  {
   "cell_type": "markdown",
   "metadata": {},
   "source": [
    "# SimpleTable"
   ]
  },
  {
   "cell_type": "code",
   "execution_count": 48,
   "metadata": {},
   "outputs": [
    {
     "name": "stdout",
     "output_type": "stream",
     "text": [
      "=========================\n",
      " JB p-value skew kurtosis\n",
      "-------------------------\n",
      "1.5     2.5  3.5      4.5\n",
      "-------------------------\n"
     ]
    }
   ],
   "source": [
    "from statsmodels.iolib.table import SimpleTable\n",
    "\n",
    "row =  ['JB', 'p-value', 'skew', 'kurtosis']\n",
    "a = [['1.5', '2.5', '3.5', '4.5']]\n",
    "\n",
    "print(SimpleTable(a, row))"
   ]
  },
  {
   "cell_type": "markdown",
   "metadata": {},
   "source": [
    " "
   ]
  },
  {
   "cell_type": "markdown",
   "metadata": {},
   "source": [
    " "
   ]
  },
  {
   "cell_type": "markdown",
   "metadata": {},
   "source": [
    " "
   ]
  },
  {
   "cell_type": "markdown",
   "metadata": {},
   "source": [
    " "
   ]
  },
  {
   "cell_type": "markdown",
   "metadata": {},
   "source": [
    " "
   ]
  },
  {
   "cell_type": "markdown",
   "metadata": {},
   "source": [
    "# Regular Expression"
   ]
  },
  {
   "cell_type": "markdown",
   "metadata": {},
   "source": [
    ". ^ $ * + ? { } [ ] \\ | ( ) — метасимволы\n",
    "\n",
    "[ ] — можно указать множество подходящих символов\n",
    "\n",
    "^ - карет, обозначает либо начало строки, либо инвертирование группы символов. (например: \"^[^0-9]\" — не-цифра в начале строки).\n",
    "\n",
    "\\d ~ [0-9] — цифры\n",
    "\n",
    "\\D ~ [^0-9]\n",
    "\n",
    "\\s ~ [ \\t\\n\\r\\f\\v] — пробельные символы\n",
    "\n",
    "\\S ~ [^ \\t\\n\\r\\f\\v]\n",
    "\n",
    "\\w ~ [a-zA-Z0-9_] — буквы + цифры + _\n",
    "\n",
    "\\W ~ [^a-zA-Z0-9_]"
   ]
  },
  {
   "cell_type": "code",
   "execution_count": null,
   "metadata": {},
   "outputs": [],
   "source": [
    "re.IGNORECASE\n",
    "re.DEBUG"
   ]
  },
  {
   "cell_type": "markdown",
   "metadata": {},
   "source": [
    " "
   ]
  },
  {
   "cell_type": "markdown",
   "metadata": {},
   "source": [
    " "
   ]
  },
  {
   "cell_type": "markdown",
   "metadata": {},
   "source": [
    " "
   ]
  },
  {
   "cell_type": "markdown",
   "metadata": {},
   "source": [
    " "
   ]
  },
  {
   "cell_type": "markdown",
   "metadata": {},
   "source": [
    " "
   ]
  },
  {
   "cell_type": "markdown",
   "metadata": {},
   "source": [
    "# Pipenv (virtual enviroment)"
   ]
  },
  {
   "cell_type": "code",
   "execution_count": null,
   "metadata": {},
   "outputs": [],
   "source": [
    "Command line:\n",
    "> '~/python.exe' -m venv env_name\n",
    "> cd C:\\env_name\\Scripts\n",
    "> activate"
   ]
  },
  {
   "cell_type": "markdown",
   "metadata": {},
   "source": [
    " "
   ]
  },
  {
   "cell_type": "markdown",
   "metadata": {},
   "source": [
    " "
   ]
  },
  {
   "cell_type": "markdown",
   "metadata": {},
   "source": [
    " "
   ]
  },
  {
   "cell_type": "markdown",
   "metadata": {},
   "source": [
    " "
   ]
  },
  {
   "cell_type": "markdown",
   "metadata": {},
   "source": [
    " "
   ]
  },
  {
   "cell_type": "markdown",
   "metadata": {},
   "source": [
    "# Telegram Bot"
   ]
  },
  {
   "cell_type": "code",
   "execution_count": null,
   "metadata": {},
   "outputs": [],
   "source": [
    "# Installing\n",
    "pip install telegram-send\n",
    "\n",
    "# Connecting\n",
    "telegram-send --configure\n",
    "944911099:AAHRdFNB1D3Kd20ejF4d9F2x7byU943RhHU\n",
    "\n",
    "# Sending e-mail\n",
    "!telegram-send 'Hello_world!'"
   ]
  },
  {
   "cell_type": "markdown",
   "metadata": {},
   "source": [
    " "
   ]
  },
  {
   "cell_type": "markdown",
   "metadata": {},
   "source": [
    " "
   ]
  },
  {
   "cell_type": "markdown",
   "metadata": {},
   "source": [
    " "
   ]
  },
  {
   "cell_type": "markdown",
   "metadata": {},
   "source": [
    " "
   ]
  },
  {
   "cell_type": "markdown",
   "metadata": {},
   "source": [
    " "
   ]
  },
  {
   "cell_type": "markdown",
   "metadata": {},
   "source": [
    "# Datetime"
   ]
  },
  {
   "cell_type": "code",
   "execution_count": 1,
   "metadata": {},
   "outputs": [],
   "source": [
    "from datetime import datetime"
   ]
  },
  {
   "cell_type": "markdown",
   "metadata": {},
   "source": [
    "### Now time"
   ]
  },
  {
   "cell_type": "code",
   "execution_count": 2,
   "metadata": {},
   "outputs": [
    {
     "data": {
      "text/plain": [
       "datetime.datetime(2019, 11, 29, 18, 41, 4, 387667)"
      ]
     },
     "execution_count": 2,
     "metadata": {},
     "output_type": "execute_result"
    }
   ],
   "source": [
    "datetime.now()"
   ]
  },
  {
   "cell_type": "markdown",
   "metadata": {},
   "source": [
    "### Object timedelta"
   ]
  },
  {
   "cell_type": "code",
   "execution_count": 3,
   "metadata": {},
   "outputs": [
    {
     "data": {
      "text/plain": [
       "datetime.timedelta(days=19, seconds=67265, microseconds=235849)"
      ]
     },
     "execution_count": 3,
     "metadata": {},
     "output_type": "execute_result"
    }
   ],
   "source": [
    "datetime.now() - datetime(2019, 11, 10)"
   ]
  },
  {
   "cell_type": "code",
   "execution_count": 5,
   "metadata": {},
   "outputs": [
    {
     "name": "stdout",
     "output_type": "stream",
     "text": [
      "2019-11-22 00:00:00\n",
      "2019-11-29 18:41:11.707317\n",
      "2019-11-29 18:41:11\n"
     ]
    }
   ],
   "source": [
    "# Перевод из строки\n",
    "print(datetime.strptime('2019-11-22', '%Y-%m-%d'))\n",
    "\n",
    "# Перевод в строковый формат\n",
    "\n",
    "print(str(datetime.now()))\n",
    "print(datetime.now().strftime('%Y-%m-%d %H:%M:%S'))"
   ]
  },
  {
   "cell_type": "markdown",
   "metadata": {},
   "source": [
    "## Спецификаторы datetime\n",
    "\n",
    "- %Y - год(4)\n",
    "- %y - год(2)\n",
    "- %m - месяц\n",
    "- %d - день\n",
    "- %H - час(24)\n",
    "- %h - час(12)\n",
    "- %M - минута\n",
    "- %S - секунда\n",
    "- %w - номер дня недели\n",
    "- %U - номер недели (с воскресенья)\n",
    "- %W - номер недели (с понедельника)\n",
    "- %z - часовой пояс\n",
    "- %F - %Y-%m-%d\n",
    "- %D - %m/%d/%y\n",
    "\n",
    "## Спецификаторы, зависящие от локали\n",
    "\n",
    "- %a - сокращенное название дня недели\n",
    "- %A - полное название дня недели\n",
    "- %b - сокращенное название месяца\n",
    "- %B - полное название месяца\n",
    "- %c - полная дата и время\n",
    "- %p - AM/PM\n",
    "- %x - дата в формате локали\n",
    "- %X - время в формате локали"
   ]
  },
  {
   "cell_type": "markdown",
   "metadata": {},
   "source": [
    " "
   ]
  },
  {
   "cell_type": "markdown",
   "metadata": {},
   "source": [
    " "
   ]
  },
  {
   "cell_type": "markdown",
   "metadata": {},
   "source": [
    " "
   ]
  },
  {
   "cell_type": "markdown",
   "metadata": {},
   "source": [
    " "
   ]
  },
  {
   "cell_type": "markdown",
   "metadata": {},
   "source": [
    " "
   ]
  },
  {
   "cell_type": "markdown",
   "metadata": {},
   "source": [
    "# Computer Vision"
   ]
  },
  {
   "cell_type": "markdown",
   "metadata": {},
   "source": [
    "### Downloading image"
   ]
  },
  {
   "cell_type": "code",
   "execution_count": null,
   "metadata": {},
   "outputs": [],
   "source": [
    "from skimage.io import imread\n",
    "import pylab\n",
    "\n",
    "image = imread('image.jpg') # Real image to numpy array with shape=(m, n, 3)\n",
    "pylab.imshow(image); # Show image\n",
    "\n",
    "image = sk.img_as_float(image) # RGB to [0,1]"
   ]
  },
  {
   "cell_type": "code",
   "execution_count": null,
   "metadata": {},
   "outputs": [],
   "source": [
    "# Image-array (m,n,3) to X-vector (m*n,3) and y-vector (m*n)\n",
    "\n",
    "X = image.reshape(image.shape[0]*image.shape[1], 3)\n",
    "y = np.arange(1, image.shape[0]*image.shape[1]+1)"
   ]
  },
  {
   "cell_type": "markdown",
   "metadata": {},
   "source": [
    "### Decrease amount of colours with k-Means"
   ]
  },
  {
   "cell_type": "code",
   "execution_count": null,
   "metadata": {},
   "outputs": [],
   "source": [
    "from sklearn.cluster import KMeans\n",
    "\n",
    "km = KMeans(n_clusters=10, init='k-means++', random_state=241).fit(X)\n",
    "    \n",
    "data = pd.DataFrame(X, columns=['x','y','z'])\n",
    "data['cluster'] = km.predict(X)\n",
    "\n",
    "# Mean cluster pixel\n",
    "data_mean = data.groupby('cluster', as_index=False).mean()\n",
    "image_mean = np.array(data.merge(data_mean, on='cluster', how='left')[['x_y','y_y','z_y']])\n",
    "image_mean = image_mean.reshape(image.shape[0], image.shape[1], 3)\n",
    "print('PSNR_mean:', compare_psnr(image, image_mean))\n",
    "pylab.imshow(image_mean);\n",
    "\n",
    "# Median cluster pixel    \n",
    "data_med = data.groupby('cluster', as_index=False).median()\n",
    "image_med = np.array(data.merge(data_med, on='cluster', how='left')[['x_y','y_y','z_y']])\n",
    "image_med = image_med.reshape(image.shape[0], image.shape[1], 3)\n",
    "print('PSNR_med:', compare_psnr(image, image_med))\n",
    "pylab.imshow(image_med);"
   ]
  },
  {
   "cell_type": "markdown",
   "metadata": {},
   "source": [
    " "
   ]
  },
  {
   "cell_type": "markdown",
   "metadata": {},
   "source": [
    " "
   ]
  },
  {
   "cell_type": "markdown",
   "metadata": {},
   "source": [
    " "
   ]
  },
  {
   "cell_type": "markdown",
   "metadata": {},
   "source": [
    " "
   ]
  },
  {
   "cell_type": "markdown",
   "metadata": {},
   "source": [
    " "
   ]
  },
  {
   "cell_type": "markdown",
   "metadata": {},
   "source": [
    "# Classification models"
   ]
  },
  {
   "cell_type": "markdown",
   "metadata": {},
   "source": [
    "## Binary Models"
   ]
  },
  {
   "cell_type": "markdown",
   "metadata": {},
   "source": [
    "#### SGD"
   ]
  },
  {
   "cell_type": "code",
   "execution_count": null,
   "metadata": {},
   "outputs": [],
   "source": [
    "from sklearn.linear_model import SGDClassifier\n",
    "\n",
    "sgd = SGDClassifier(loss='log')\n",
    "sgd.fit(X, y)"
   ]
  },
  {
   "cell_type": "markdown",
   "metadata": {},
   "source": [
    "#### Logistic Regression"
   ]
  },
  {
   "cell_type": "code",
   "execution_count": null,
   "metadata": {},
   "outputs": [],
   "source": [
    "from sklearn.linear_model import LogisticRegression\n",
    "\n",
    "lr = LogisticRegression()\n",
    "lr.fit(X, y)"
   ]
  },
  {
   "cell_type": "markdown",
   "metadata": {},
   "source": [
    " "
   ]
  },
  {
   "cell_type": "markdown",
   "metadata": {},
   "source": [
    " "
   ]
  },
  {
   "cell_type": "markdown",
   "metadata": {},
   "source": [
    "## Binary to Multy"
   ]
  },
  {
   "cell_type": "markdown",
   "metadata": {},
   "source": [
    "#### All-vs-All"
   ]
  },
  {
   "cell_type": "code",
   "execution_count": null,
   "metadata": {},
   "outputs": [],
   "source": [
    "from sklearn.multiclass import OneVsOneClassifier\n",
    "\n",
    "ovo_clf = OneVsOneClassifier(SGDClassifier())\n",
    "ovo_clf.fit(X, y)\n",
    "ovo_clf.predict(X)"
   ]
  },
  {
   "cell_type": "markdown",
   "metadata": {},
   "source": [
    "#### One-vs-All"
   ]
  },
  {
   "cell_type": "code",
   "execution_count": null,
   "metadata": {},
   "outputs": [],
   "source": [
    "from sklearn.multiclass import OneVsRestClassifier\n",
    "\n",
    "ovr_clf = OneVsRestClassifier(SGDClassifier())\n",
    "ovr_clf.fit(X, y)\n",
    "ovr_clf.predict(X)"
   ]
  },
  {
   "cell_type": "markdown",
   "metadata": {},
   "source": [
    " "
   ]
  },
  {
   "cell_type": "markdown",
   "metadata": {},
   "source": [
    " "
   ]
  },
  {
   "cell_type": "markdown",
   "metadata": {},
   "source": [
    "## Multy Models"
   ]
  },
  {
   "cell_type": "markdown",
   "metadata": {},
   "source": [
    "#### Decision Tree"
   ]
  },
  {
   "cell_type": "code",
   "execution_count": null,
   "metadata": {},
   "outputs": [],
   "source": [
    "from sklearn.tree import DecisionTreeClassifier, plot_tree\n",
    "\n",
    "clf_tree = DecisionTreeClassifier(criterion='entropy', max_depth=3)\n",
    "clf_tree.fit(X, y)"
   ]
  },
  {
   "cell_type": "code",
   "execution_count": null,
   "metadata": {},
   "outputs": [],
   "source": [
    "from sklearn.tree import plot_tree\n",
    "\n",
    "plt.figure(figsize=(100, 50))\n",
    "plot_tree(clf_tree, fontsize=80, feature_names=list(X_train), filled=True);"
   ]
  },
  {
   "cell_type": "markdown",
   "metadata": {},
   "source": [
    "#### Random Forest"
   ]
  },
  {
   "cell_type": "code",
   "execution_count": null,
   "metadata": {},
   "outputs": [],
   "source": [
    "from sklearn.ensemble import RandomForestClassifier\n",
    "\n",
    "clf_forest = RandomForestClassifier(n_estimators=10, criterion='gini', max_depth=5)\n",
    "clf_forest.fit(X, y)\n",
    "clf_forest.predict(X)\n",
    "clf_forest.predict_proba(X)"
   ]
  },
  {
   "cell_type": "markdown",
   "metadata": {},
   "source": [
    "#### k-Nearest Neighbors"
   ]
  },
  {
   "cell_type": "code",
   "execution_count": null,
   "metadata": {},
   "outputs": [],
   "source": [
    "from sklearn.neighbors import KNeighborsClassifier\n",
    "\n",
    "knn = KNeighborsClassifier(n_neighbors=5)\n",
    "knn.fit(X, y)"
   ]
  },
  {
   "cell_type": "markdown",
   "metadata": {},
   "source": [
    " "
   ]
  },
  {
   "cell_type": "markdown",
   "metadata": {},
   "source": [
    " "
   ]
  },
  {
   "cell_type": "markdown",
   "metadata": {},
   "source": [
    "## Polynomial features"
   ]
  },
  {
   "cell_type": "code",
   "execution_count": null,
   "metadata": {},
   "outputs": [],
   "source": [
    "from sklearn.preprocessing import PolynomialFeatures\n",
    "\n",
    "poly = PolynomialFeatures(degree=2)\n",
    "X_poly = poly.fit_transform(X)"
   ]
  },
  {
   "cell_type": "markdown",
   "metadata": {},
   "source": [
    " "
   ]
  },
  {
   "cell_type": "markdown",
   "metadata": {},
   "source": [
    " "
   ]
  },
  {
   "cell_type": "markdown",
   "metadata": {},
   "source": [
    "## Optimisation of C (reg. parameter)"
   ]
  },
  {
   "cell_type": "code",
   "execution_count": null,
   "metadata": {},
   "outputs": [],
   "source": [
    "from sklearn.linear_model import LogisticRegressionCV\n",
    "from sklearn.model_selection import StratifiedKFold\n",
    "\n",
    "skf = StratifiedKFold(n_splits=5, shuffle=True, random_state=17)\n",
    "\n",
    "c_values = np.logspace(-2, 3, 500)\n",
    "\n",
    "logit_searcher = LogisticRegressionCV(Cs=c_values, cv=skf, verbose=1, n_jobs=-1)\n",
    "logit_searcher.fit(X_poly, y)"
   ]
  },
  {
   "cell_type": "markdown",
   "metadata": {},
   "source": [
    " "
   ]
  },
  {
   "cell_type": "markdown",
   "metadata": {},
   "source": [
    " "
   ]
  },
  {
   "cell_type": "markdown",
   "metadata": {},
   "source": [
    " "
   ]
  },
  {
   "cell_type": "markdown",
   "metadata": {},
   "source": [
    " "
   ]
  },
  {
   "cell_type": "markdown",
   "metadata": {},
   "source": [
    " "
   ]
  },
  {
   "cell_type": "markdown",
   "metadata": {},
   "source": [
    "# Cross-validation"
   ]
  },
  {
   "cell_type": "markdown",
   "metadata": {},
   "source": [
    "### Cross-val score"
   ]
  },
  {
   "cell_type": "code",
   "execution_count": null,
   "metadata": {},
   "outputs": [],
   "source": [
    "from sklearn.model_selection import cross_val_score\n",
    "cross_val_score(model, X_train, y_train, cv=5, scoring='accuracy').mean()"
   ]
  },
  {
   "cell_type": "markdown",
   "metadata": {},
   "source": [
    "### Cross-val predict"
   ]
  },
  {
   "cell_type": "code",
   "execution_count": null,
   "metadata": {},
   "outputs": [],
   "source": [
    "from sklearn.model_selection import cross_val_predict\n",
    "y_train_pred = cross_val_predict(model, X_train, y_train, cv=5)"
   ]
  },
  {
   "cell_type": "markdown",
   "metadata": {},
   "source": [
    " "
   ]
  },
  {
   "cell_type": "markdown",
   "metadata": {},
   "source": [
    " "
   ]
  },
  {
   "cell_type": "markdown",
   "metadata": {},
   "source": [
    " "
   ]
  },
  {
   "cell_type": "markdown",
   "metadata": {},
   "source": [
    " "
   ]
  },
  {
   "cell_type": "markdown",
   "metadata": {},
   "source": [
    " "
   ]
  },
  {
   "cell_type": "markdown",
   "metadata": {},
   "source": [
    "# Quality metrics"
   ]
  },
  {
   "cell_type": "markdown",
   "metadata": {},
   "source": [
    "$accuracy = \\frac{TP+TN}{TP+TN+FP+FN}$\n",
    "\n",
    "$precision = \\frac{TP}{TP+FP}$\n",
    "\n",
    "$recall = \\frac{TP}{TP+FN}$\n",
    "\n",
    "$F1 = \\frac{2}{\\frac{1}{precision}+\\frac{1}{recall}}= 2*\\frac{precision * recall}{precision + recall} = \\frac{TP}{TP+\\frac{FN+FP}{2}}$"
   ]
  },
  {
   "cell_type": "markdown",
   "metadata": {},
   "source": [
    "### Confusion matrix"
   ]
  },
  {
   "cell_type": "code",
   "execution_count": null,
   "metadata": {},
   "outputs": [],
   "source": [
    "from sklearn.metrics import confusion_matrix\n",
    "confusion_matrix(y, y_pred)"
   ]
  },
  {
   "cell_type": "code",
   "execution_count": 86,
   "metadata": {},
   "outputs": [],
   "source": [
    "import numpy as np\n",
    "from statsmodels.iolib.table import SimpleTable\n",
    "from sklearn.metrics import accuracy_score, precision_score, recall_score, f1_score, confusion_matrix\n",
    "\n",
    "def quality_metrics(y, y_pred):\n",
    "    mv = []\n",
    "    mv.append(['Accuracy', round(accuracy_score(y, y_pred), 2)])\n",
    "    mv.append(['Precision', round(precision_score(y, y_pred), 2)])\n",
    "    mv.append(['Recall', round(recall_score(y, y_pred), 2)])\n",
    "    mv.append(['F1', round(f1_score(y, y_pred), 2)])\n",
    "    \n",
    "    # Metrics\n",
    "    print(SimpleTable(mv, ['Metric', 'Value']))\n",
    "    \n",
    "    # Confusion matrix\n",
    "    cm = confusion_matrix(y, y_pred)\n",
    "    cmp = cm*100/cm.sum()\n",
    "    cmp = np.round_(cmp, 2)\n",
    "    print(SimpleTable(np.append([['Negative_Model','Positive_Model']], cm, axis=0).T, \n",
    "                      ['Amount','Negative_Real','Positive_Real']))\n",
    "    print(SimpleTable(np.append([['Negative_Model','Positive_Model']], cmp, axis=0).T, \n",
    "                      ['Percent','Negative_Real','Positive_Real']))"
   ]
  },
  {
   "cell_type": "code",
   "execution_count": 87,
   "metadata": {},
   "outputs": [
    {
     "name": "stdout",
     "output_type": "stream",
     "text": [
      "===============\n",
      "  Metric  Value\n",
      "---------------\n",
      " Accuracy   1.0\n",
      "Precision   1.0\n",
      "   Recall   1.0\n",
      "       F1   1.0\n",
      "---------------\n",
      "==========================================\n",
      "    Amount     Negative_Real Positive_Real\n",
      "------------------------------------------\n",
      "Positive_Model             2             0\n",
      "Negative_Model             0             3\n",
      "------------------------------------------\n",
      "==========================================\n",
      "   Percent     Negative_Real Positive_Real\n",
      "------------------------------------------\n",
      "Positive_Model          40.0           0.0\n",
      "Negative_Model           0.0          60.0\n",
      "------------------------------------------\n"
     ]
    }
   ],
   "source": [
    "y = [1,1,1,0,0]\n",
    "y_pred = [1,1,1,0,0]\n",
    "\n",
    "quality_metrics(y,y_pred)"
   ]
  },
  {
   "cell_type": "markdown",
   "metadata": {},
   "source": [
    " "
   ]
  },
  {
   "cell_type": "markdown",
   "metadata": {},
   "source": [
    " "
   ]
  },
  {
   "cell_type": "markdown",
   "metadata": {},
   "source": [
    "# ROC & PRC"
   ]
  },
  {
   "cell_type": "code",
   "execution_count": 63,
   "metadata": {},
   "outputs": [],
   "source": [
    "from sklearn.metrics import roc_curve, precision_recall_curve, auc\n",
    "\n",
    "def plot_roc_curve(model, X, y):\n",
    "    y_pred = model.predict_proba(X)[:,1]\n",
    "    \n",
    "    sns.set(font_scale=1.5)\n",
    "    sns.set_color_codes(\"muted\")\n",
    "\n",
    "    plt.figure(figsize=(10, 8))\n",
    "    fpr, tpr, thresholds = roc_curve(y, y_pred, pos_label=1)\n",
    "    \n",
    "    plt.plot(fpr, tpr, lw=2, label='ROC curve ')\n",
    "    plt.plot([0, 1], [0, 1])\n",
    "    plt.xlim([0.0, 1.0])\n",
    "    plt.ylim([0.0, 1.05])\n",
    "    plt.xlabel('False Positive Rate')\n",
    "    plt.ylabel('True Positive Rate')\n",
    "    plt.title('ROC-AUC = {}'.format(round(auc(fpr, tpr), 2)))\n",
    "    plt.show()\n",
    "    \n",
    "def plot_precision_recall_curve(model, X, y):\n",
    "    y_pred = model.predict_proba(X)[:,1]\n",
    "    \n",
    "    sns.set(font_scale=1.5)\n",
    "    sns.set_color_codes(\"muted\")\n",
    "\n",
    "    plt.figure(figsize=(10, 8))\n",
    "    precisions, recalls, thresholds = precision_recall_curve(y, y_pred, pos_label=1)\n",
    "    \n",
    "    plt.plot(recalls, precisions, lw=2, label='PRC curve ')\n",
    "    plt.plot([0, 1], [0, 1])\n",
    "    plt.xlim([0.0, 1.0])\n",
    "    plt.ylim([0.0, 1.05])\n",
    "    plt.xlabel('Precision')\n",
    "    plt.ylabel('Recall')\n",
    "    plt.title('PRC-AUC = {}'.format(round(auc(recalls, precisions), 2))))\n",
    "    plt.show()"
   ]
  },
  {
   "cell_type": "markdown",
   "metadata": {},
   "source": [
    " "
   ]
  },
  {
   "cell_type": "markdown",
   "metadata": {},
   "source": [
    " "
   ]
  },
  {
   "cell_type": "markdown",
   "metadata": {},
   "source": [
    " "
   ]
  },
  {
   "cell_type": "markdown",
   "metadata": {},
   "source": [
    " "
   ]
  },
  {
   "cell_type": "markdown",
   "metadata": {},
   "source": [
    " "
   ]
  },
  {
   "cell_type": "markdown",
   "metadata": {},
   "source": [
    "# Neural Networks"
   ]
  },
  {
   "cell_type": "markdown",
   "metadata": {},
   "source": [
    "## keras"
   ]
  },
  {
   "cell_type": "code",
   "execution_count": null,
   "metadata": {},
   "outputs": [],
   "source": [
    "from keras.models import Model, Sequential\n",
    "from keras.layers import Input, Dense, LSTM, GRU, Dropout\n",
    "from keras.utils import np_utils, plot_model"
   ]
  },
  {
   "cell_type": "code",
   "execution_count": null,
   "metadata": {},
   "outputs": [],
   "source": [
    "def model_RNN(X_train, y_train, X_test, y_test, \n",
    "              batch_size=100, num_epochs=10, \n",
    "              class_w=None,\n",
    "              continue_train=False,\n",
    "              model=0,\n",
    "              plot_m=False, test_res=True, roc_plot=True):\n",
    "    '''\n",
    "    create and fit RNN model\n",
    "    '''\n",
    "    \n",
    "    # New model (continue_train=False) or continue training (continue_train=True, model=model)\n",
    "    if continue_train == False:\n",
    "        # Layers\n",
    "        inp = Input(shape=(X_train.shape[1], 1))\n",
    "        hidden_0 = LSTM(256, return_sequences=True)(inp)\n",
    "        hidden_1 = LSTM(128, return_sequences=True)(hidden_0)\n",
    "        hidden_2 = LSTM(64, return_sequences=True)(hidden_1)\n",
    "        hidden_3 = LSTM(32, return_sequences=False)(hidden_2)\n",
    "        hidden_4 = Dense(32, activation='relu')(hidden_3)\n",
    "        drop_1 = Dropout(0.5)(hidden_4)\n",
    "        hidden_5 = Dense(16, activation='relu')(drop_1)\n",
    "        drop_2 = Dropout(0.5)(hidden_5)\n",
    "        out = Dense(1, activation='sigmoid')(drop_2)\n",
    "        model = Model(inputs=inp, outputs=out)\n",
    "\n",
    "        # Compile\n",
    "        model.compile(loss='binary_crossentropy',\n",
    "                      optimizer='adam',\n",
    "                      metrics=['binary_accuracy'])\n",
    "    else:\n",
    "        model = model\n",
    "    \n",
    "    # Plot model\n",
    "    if plot_m == True:\n",
    "        plot_model(model, show_shapes=True)\n",
    "        plt.show()\n",
    "        \n",
    "    # Fit\n",
    "    if class_w == None:\n",
    "        class_w = pd.Series(y_train.flatten()).value_counts()\n",
    "        class_w = y_train.shape[0] / class_w\n",
    "        class_w = class_w.to_list()\n",
    "\n",
    "    model.fit(X_train, \n",
    "              y_train,\n",
    "              class_weight=class_w,\n",
    "              batch_size=batch_size, \n",
    "              epochs=num_epochs,\n",
    "              verbose=1, \n",
    "              validation_split=0.1)\n",
    "    \n",
    "    # Test score\n",
    "    if test_res == True:\n",
    "        y_pred = model.predict(X_test)\n",
    "        y_pred = (y_pred[:,0] > 0.5).astype('int8')\n",
    "        quality_metrics(y_test, y_pred)\n",
    "        \n",
    "    # ROC\n",
    "    if roc_plot == True:\n",
    "        plot_roc_curve(model, X_test, y_test)\n",
    "    \n",
    "    return model"
   ]
  },
  {
   "cell_type": "markdown",
   "metadata": {},
   "source": [
    " "
   ]
  },
  {
   "cell_type": "markdown",
   "metadata": {},
   "source": [
    " "
   ]
  },
  {
   "cell_type": "markdown",
   "metadata": {},
   "source": [
    "## pytorch"
   ]
  }
 ],
 "metadata": {
  "kernelspec": {
   "display_name": "Python 3",
   "language": "python",
   "name": "python3"
  },
  "language_info": {
   "codemirror_mode": {
    "name": "ipython",
    "version": 3
   },
   "file_extension": ".py",
   "mimetype": "text/x-python",
   "name": "python",
   "nbconvert_exporter": "python",
   "pygments_lexer": "ipython3",
   "version": "3.7.3"
  }
 },
 "nbformat": 4,
 "nbformat_minor": 4
}
