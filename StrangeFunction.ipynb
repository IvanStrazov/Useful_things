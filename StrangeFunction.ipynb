{
 "cells": [
  {
   "cell_type": "markdown",
   "metadata": {},
   "source": [
    "# Сложные функции"
   ]
  },
  {
   "cell_type": "markdown",
   "metadata": {},
   "source": [
    " "
   ]
  },
  {
   "cell_type": "markdown",
   "metadata": {},
   "source": [
    " "
   ]
  },
  {
   "cell_type": "markdown",
   "metadata": {},
   "source": [
    "# Генератор конфигураций по типу GridSearch"
   ]
  },
  {
   "cell_type": "code",
   "execution_count": 16,
   "metadata": {},
   "outputs": [],
   "source": [
    "def config_generator(new_config, config):\n",
    "    '''\n",
    "    Генератор конфигурации модели на базе словаря с новыми настройками\n",
    "    '''\n",
    "    from itertools import product\n",
    "    \n",
    "    # Словарь с изменениями превращаем в структуру: [full_key, value]\n",
    "    # [\n",
    "    #  [[key11, key12..], value1],\n",
    "    #  [[key21, key22..], value2],\n",
    "    # ..]\n",
    "    \n",
    "    dict_to_list = {}\n",
    "    def ReadNewDict(new_dict, parents):\n",
    "        if not isinstance(new_dict, dict) or len(new_dict) == 0:\n",
    "            dict_to_list[parents] = new_dict\n",
    "            return None\n",
    "\n",
    "        for curr_parent in new_dict:\n",
    "            ReadNewDict(new_dict[curr_parent], parents + (curr_parent, ))\n",
    "            \n",
    "    ReadNewDict(new_config, ())\n",
    "    \n",
    "    \n",
    "    \n",
    "    # По full_key спускаемся через temp_config до value и меняем его\n",
    "    # Пока value выступает либо сам элемент, либо первый элемент list/tuple\n",
    "    \n",
    "    for full_key, value in list(dict_to_list.items()):\n",
    "        temp_config = config\n",
    "        \n",
    "        for key in full_key[:-1]:\n",
    "            if key in temp_config:\n",
    "                temp_config = temp_config[key]\n",
    "            else:\n",
    "                temp_config[key] = {}\n",
    "                temp_config = temp_config[key]\n",
    "                \n",
    "        if isinstance(value, list) or isinstance(value, tuple):\n",
    "            assert len(value), 'Передан пустой список'\n",
    "            temp_config[full_key[-1]] = value[0]\n",
    "        else:\n",
    "            temp_config[full_key[-1]] = value\n",
    "            del dict_to_list[full_key]\n",
    "            \n",
    "    \n",
    "    \n",
    "    # Генератор пробегает по всем комбинациям элементов config\n",
    "    \n",
    "    for values in product(*dict_to_list.values()):\n",
    "        for ind, full_key in enumerate(dict_to_list):\n",
    "            temp_config = config\n",
    "        \n",
    "            for key in full_key[:-1]:\n",
    "                temp_config = temp_config[key]\n",
    "                    \n",
    "            temp_config[full_key[-1]] = values[ind]\n",
    "        yield config"
   ]
  },
  {
   "cell_type": "code",
   "execution_count": 17,
   "metadata": {},
   "outputs": [
    {
     "name": "stdout",
     "output_type": "stream",
     "text": [
      "{'factors': False,\n",
      " 'prediction_len': 0,\n",
      " 'test_len': 1,\n",
      " 'training': {'batch_size': 10, 'epochs': 100}}\n",
      "{'factors': False,\n",
      " 'prediction_len': 0,\n",
      " 'test_len': 1,\n",
      " 'training': {'batch_size': 10, 'epochs': 200}}\n",
      "{'factors': False,\n",
      " 'prediction_len': 0,\n",
      " 'test_len': 3,\n",
      " 'training': {'batch_size': 10, 'epochs': 100}}\n",
      "{'factors': False,\n",
      " 'prediction_len': 0,\n",
      " 'test_len': 3,\n",
      " 'training': {'batch_size': 10, 'epochs': 200}}\n"
     ]
    }
   ],
   "source": [
    "my_dict = {\"test_len\": [1, 3],\n",
    "           \"prediction_len\": 0,\n",
    "           \"training\": {\"epochs\": [100, 200], \"batch_size\": 10}}\n",
    "\n",
    "config = {\"test_len\": 6,\n",
    "          \"prediction_len\": 0,\n",
    "          \"factors\": False,\n",
    "          \"training\": {\"epochs\": 100, \"batch_size\": 32}}\n",
    "    \n",
    "from pprint import pprint\n",
    "for i in config_generator(my_dict, config):\n",
    "    pprint(i)"
   ]
  },
  {
   "cell_type": "code",
   "execution_count": 44,
   "metadata": {},
   "outputs": [],
   "source": [
    "class CustomGridSearch:\n",
    "    '''\n",
    "    Кастомный аналог GridSearch\n",
    "    '''\n",
    "    def __init__(self, model, config, X, y, metric='MSE', test_size=0.2, data_tranform=None, random_state=42):\n",
    "        import numpy as np\n",
    "        from sklearn.model_selection import train_test_split\n",
    "        import warnings\n",
    "        warnings.simplefilter('ignore')\n",
    "        \n",
    "        assert isinstance(config, dict), 'ConfigTypeError'\n",
    "        assert isinstance(X, np.array), 'XTypeError'\n",
    "        assert isinstance(y, np.array), 'yTypeError'\n",
    "        \n",
    "        self.model = model\n",
    "        self.config = config\n",
    "        \n",
    "        if data_tranform:\n",
    "            X, y = data_tranform(X, y)\n",
    "            \n",
    "        self.X_train, self.X_test, self.y_train, self.y_test = train_test_split(X, y, \n",
    "                                                                                test_size=test_size, \n",
    "                                                                                random_state=random_state)\n",
    "        self.metric = metric\n",
    "        self.config_history = np.array([])\n",
    "        self.score_history = np.array([])\n",
    "        \n",
    "        \n",
    "        \n",
    "    \n",
    "    def score(self, preds, true, metric):\n",
    "        if metric == 'MSE':\n",
    "            return np.sum((preds - true) ** 2) / true.shape[0]\n",
    "    \n",
    "    \n",
    "    def fit(self):\n",
    "        for params in config_generator(self.config, self.model.__dict__):\n",
    "            self.model.__dict__ = params\n",
    "            self.model.fit(self.X_train, self.y_train)\n",
    "            preds = self.model.predict(self.X_test)\n",
    "            score = self.score(preds, self.y_test, self.metric)\n",
    "            self.score_history = np.hstack([self.score_history, score])\n",
    "            self.config_history = np.hstack([self.config_history, params])\n",
    "            \n",
    "    \n",
    "    def best_score(self):\n",
    "        return self.score_history.max()\n",
    "    \n",
    "    \n",
    "    def best_parameters(self):\n",
    "        return self.config_history[self.score_history.argmax()]"
   ]
  },
  {
   "cell_type": "code",
   "execution_count": 46,
   "metadata": {},
   "outputs": [
    {
     "data": {
      "text/plain": [
       "{'penalty': 'l2',\n",
       " 'dual': False,\n",
       " 'tol': 0.0001,\n",
       " 'C': 1.0,\n",
       " 'fit_intercept': True,\n",
       " 'intercept_scaling': 1,\n",
       " 'class_weight': 'balanced',\n",
       " 'random_state': None,\n",
       " 'solver': 'lbfgs',\n",
       " 'max_iter': 100,\n",
       " 'multi_class': 'auto',\n",
       " 'verbose': 0,\n",
       " 'warm_start': False,\n",
       " 'n_jobs': None,\n",
       " 'l1_ratio': None,\n",
       " 'classes_': array([ 9, 10, 15, 19, 27, 36, 37, 44, 65, 68, 86, 95, 96, 97]),\n",
       " 'coef_': array([[ 0.07322156,  0.08688119,  0.00916795],\n",
       "        [ 0.32576247, -0.58379819,  0.36673088],\n",
       "        [ 0.68695088, -0.35820082, -0.54917821],\n",
       "        [-0.13411722, -0.1721953 ,  0.45890131],\n",
       "        [-0.65530586,  0.61302338, -0.33947975],\n",
       "        [-0.43896203,  0.11265482,  0.33417167],\n",
       "        [-0.87049366,  0.33539638,  0.17941639],\n",
       "        [-0.1887969 ,  0.30887698, -0.12424014],\n",
       "        [ 0.2710205 ,  0.08125079, -0.44491176],\n",
       "        [ 0.50848605, -0.37294943,  0.11974476],\n",
       "        [ 0.05008093, -0.07351841,  0.25890365],\n",
       "        [ 0.14475121, -0.30693139,  0.3881396 ],\n",
       "        [ 0.35839549, -0.12468719, -0.0403484 ],\n",
       "        [-0.13099341,  0.4541972 , -0.61701794]]),\n",
       " 'intercept_': array([-0.24605591,  0.01935593,  0.04465036, -0.00113945, -0.02140808,\n",
       "        -0.16299973,  0.15344181,  0.32475568,  0.15052391,  0.01172125,\n",
       "        -0.09129355, -0.02290753, -0.06432585, -0.09431884]),\n",
       " 'n_iter_': array([100])}"
      ]
     },
     "execution_count": 46,
     "metadata": {},
     "output_type": "execute_result"
    }
   ],
   "source": [
    "import numpy as np\n",
    "from sklearn.linear_model import LogisticRegression\n",
    "\n",
    "lr = LogisticRegression()\n",
    "X = np.random.randint(1, 100, (20, 3))\n",
    "y = np.random.randint(1, 100, 20)\n",
    "config = {'class_weight': [None, 'balanced'],\n",
    "          'C': np.linspace(0.1, 1, 10).tolist()}\n",
    "\n",
    "gs = CustomGridSearch(lr, config, X, y)\n",
    "\n",
    "gs.fit()\n",
    "gs.best_score()\n",
    "gs.best_parameters()"
   ]
  }
 ],
 "metadata": {
  "kernelspec": {
   "display_name": "Python 3",
   "language": "python",
   "name": "python3"
  },
  "language_info": {
   "codemirror_mode": {
    "name": "ipython",
    "version": 3
   },
   "file_extension": ".py",
   "mimetype": "text/x-python",
   "name": "python",
   "nbconvert_exporter": "python",
   "pygments_lexer": "ipython3",
   "version": "3.7.6"
  }
 },
 "nbformat": 4,
 "nbformat_minor": 4
}
