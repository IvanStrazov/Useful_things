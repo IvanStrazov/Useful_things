{
 "cells": [
  {
   "cell_type": "markdown",
   "id": "352ba127-5f0e-42fc-bd9c-f0e8e54e7af1",
   "metadata": {
    "tags": []
   },
   "source": [
    "<h1><center>String formatting<center></h1>"
   ]
  },
  {
   "cell_type": "markdown",
   "id": "7bbe3f0f-fc4b-46dd-aa70-4360fbb6ca4f",
   "metadata": {},
   "source": [
    "## Introduction"
   ]
  },
  {
   "cell_type": "markdown",
   "id": "d2b2d1e6-5126-418e-bb23-c04e24a17af9",
   "metadata": {},
   "source": [
    "f-strings have been available since Python 3.6"
   ]
  },
  {
   "cell_type": "markdown",
   "id": "a486541e-fb6b-4263-8cef-cf2512c65242",
   "metadata": {},
   "source": [
    " "
   ]
  },
  {
   "cell_type": "markdown",
   "id": "9057e7b2-2d36-4ed3-8f71-f096822a7311",
   "metadata": {},
   "source": [
    " "
   ]
  },
  {
   "cell_type": "markdown",
   "id": "f41a415d-300f-46e4-b971-8b06c0fb9c50",
   "metadata": {},
   "source": [
    "## Mechanism"
   ]
  },
  {
   "cell_type": "code",
   "execution_count": 90,
   "id": "fe1df0bf-e5bf-4727-81d2-1b8a33047b3b",
   "metadata": {},
   "outputs": [
    {
     "data": {
      "text/plain": [
       "'format'"
      ]
     },
     "execution_count": 90,
     "metadata": {},
     "output_type": "execute_result"
    }
   ],
   "source": [
    "class String:\n",
    "    # You should comment some part of dunder methods and look at behavior of string formatting\n",
    "    # Priority: format -> str -> repr -> default name of object of class\n",
    "    def __format__(self, format): return \"format\"\n",
    "    def __str__(self): return \"str\"\n",
    "    def __repr__(self): return \"repr\"\n",
    "    \n",
    "\n",
    "string = String()\n",
    "f\"{string}\""
   ]
  },
  {
   "cell_type": "markdown",
   "id": "3a76c16a-b16b-40a7-87bb-7a9d119d3e52",
   "metadata": {},
   "source": [
    " "
   ]
  },
  {
   "cell_type": "markdown",
   "id": "45da1ca6-9a61-40f3-a695-ed90488df613",
   "metadata": {},
   "source": [
    " "
   ]
  },
  {
   "cell_type": "markdown",
   "id": "86e72942-1fb3-4ddb-af58-99e942ad0e06",
   "metadata": {},
   "source": [
    "## Practise"
   ]
  },
  {
   "cell_type": "markdown",
   "id": "1c922d06-333c-4946-96b2-90fbe03daf97",
   "metadata": {},
   "source": [
    "#### Precision"
   ]
  },
  {
   "cell_type": "code",
   "execution_count": 80,
   "id": "9c39e374-d4e5-4f1d-9130-e97112a01c34",
   "metadata": {},
   "outputs": [
    {
     "name": "stdout",
     "output_type": "stream",
     "text": [
      "1e+00\n",
      "1.2\n",
      "1\n",
      "1.2\n",
      "1.230\n"
     ]
    }
   ],
   "source": [
    "print(f\"{1.23:.1}\")\n",
    "print(f\"{1.23:.2}\")\n",
    "print(f\"{1.23:.0f}\")\n",
    "print(f\"{1.23:.1f}\")\n",
    "print(f\"{1.23:.3f}\")"
   ]
  },
  {
   "cell_type": "markdown",
   "id": "23d28ec0-5d61-47db-8fff-758180c9ff5e",
   "metadata": {},
   "source": [
    "#### Digit separators"
   ]
  },
  {
   "cell_type": "code",
   "execution_count": 9,
   "id": "d06dbf27-351c-42f2-bdb4-6a5278adeb41",
   "metadata": {},
   "outputs": [
    {
     "name": "stdout",
     "output_type": "stream",
     "text": [
      "123,456,789\n",
      "123 456 789\n"
     ]
    }
   ],
   "source": [
    "print(f\"{123456789:,}\")\n",
    "print(f\"{123456789:,}\".replace(\",\", \" \"))"
   ]
  },
  {
   "cell_type": "markdown",
   "id": "dcb0e9d9-68f2-403c-b998-ff6aa462437f",
   "metadata": {},
   "source": [
    "#### Align and fill"
   ]
  },
  {
   "cell_type": "code",
   "execution_count": 82,
   "id": "88e2d9bd-2df3-4b70-a1db-72579647c46e",
   "metadata": {},
   "outputs": [
    {
     "name": "stdout",
     "output_type": "stream",
     "text": [
      "123______\n",
      "___456___\n",
      "______789\n"
     ]
    }
   ],
   "source": [
    "# < - left, ^ - center, > - right\n",
    "print(f\"{123:_<9}\")\n",
    "print(f\"{456:_^9}\")\n",
    "print(f\"{789:_>9}\")"
   ]
  },
  {
   "cell_type": "markdown",
   "id": "81180eaa-32fe-46ec-87ef-643be6be4d56",
   "metadata": {},
   "source": [
    "#### Truncating long strings"
   ]
  },
  {
   "cell_type": "code",
   "execution_count": 37,
   "id": "72813c1c-38c7-48b1-9a75-012773e046ee",
   "metadata": {},
   "outputs": [
    {
     "name": "stdout",
     "output_type": "stream",
     "text": [
      "12345\n",
      "12345____\n"
     ]
    }
   ],
   "source": [
    "print(f\"{'123456789':.5}\")\n",
    "print(f\"{'123456789':_<9.5}\")"
   ]
  },
  {
   "cell_type": "markdown",
   "id": "5011c423-5967-4043-9657-fd5b7396d267",
   "metadata": {},
   "source": [
    "#### Sign"
   ]
  },
  {
   "cell_type": "code",
   "execution_count": 64,
   "id": "2d36d69e-563b-451f-b6d3-e056dfb75133",
   "metadata": {},
   "outputs": [
    {
     "name": "stdout",
     "output_type": "stream",
     "text": [
      "+__123456789\n",
      "-__123456789\n"
     ]
    }
   ],
   "source": [
    "print(f\"{123456789:_=+12}\")\n",
    "print(f\"{-123456789:_=12}\")"
   ]
  },
  {
   "cell_type": "markdown",
   "id": "7ad43365-3ba7-4993-a3ba-a5c0e9f88953",
   "metadata": {},
   "source": [
    "#### Datetime"
   ]
  },
  {
   "cell_type": "code",
   "execution_count": 71,
   "id": "394c7f69-71ce-4726-a1a3-f3aaacc1c09c",
   "metadata": {},
   "outputs": [
    {
     "name": "stdout",
     "output_type": "stream",
     "text": [
      "2022-01-01 00:00:00\n"
     ]
    }
   ],
   "source": [
    "from datetime import datetime\n",
    "print(f\"{datetime(2022, 1, 1, 0, 0, 0):%Y-%m-%d %H:%M:%S}\")"
   ]
  }
 ],
 "metadata": {
  "kernelspec": {
   "display_name": "Python 3 (ipykernel)",
   "language": "python",
   "name": "python3"
  },
  "language_info": {
   "codemirror_mode": {
    "name": "ipython",
    "version": 3
   },
   "file_extension": ".py",
   "mimetype": "text/x-python",
   "name": "python",
   "nbconvert_exporter": "python",
   "pygments_lexer": "ipython3",
   "version": "3.10.4"
  }
 },
 "nbformat": 4,
 "nbformat_minor": 5
}
